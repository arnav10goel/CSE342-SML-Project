{
 "cells": [
  {
   "attachments": {},
   "cell_type": "markdown",
   "metadata": {},
   "source": [
    "### Statistical Machine Learning (CSE-342) Project\n",
    "\n",
    "- This notebook shows the code for all the Machine Learning Techniques used by us to best perform the classification task given to us for this project."
   ]
  },
  {
   "attachments": {},
   "cell_type": "markdown",
   "metadata": {},
   "source": [
    "#### 1. Importing Libraries"
   ]
  },
  {
   "cell_type": "code",
   "execution_count": 2,
   "metadata": {},
   "outputs": [],
   "source": [
    "import numpy as np\n",
    "import pandas as pd\n",
    "import matplotlib.pyplot as plt\n",
    "import hdbscan\n",
    "\n",
    "from sklearn.model_selection import train_test_split\n",
    "from sklearn.preprocessing import StandardScaler\n",
    "from sklearn.metrics import accuracy_score\n",
    "from sklearn.neighbors import LocalOutlierFactor\n",
    "from sklearn.discriminant_analysis import LinearDiscriminantAnalysis as LDA\n",
    "from sklearn.decomposition import PCA\n",
    "\n",
    "from fcmeans import FCM\n",
    "from sklearn.cluster import KMeans\n",
    "from sklearn.cluster import MeanShift, estimate_bandwidth\n",
    "from sklearn.cluster import DBSCAN\n",
    "from sklearn.metrics import silhouette_score\n",
    "\n",
    "\n",
    "from sklearn.linear_model import LogisticRegression\n",
    "from sklearn.naive_bayes import GaussianNB\n",
    "from sklearn.neighbors import KNeighborsClassifier\n",
    "from sklearn.tree import DecisionTreeClassifier\n",
    "\n",
    "from sklearn.ensemble import RandomForestClassifier\n",
    "from sklearn.ensemble import AdaBoostClassifier\n",
    "from sklearn.ensemble import GradientBoostingClassifier\n",
    "from sklearn.ensemble import BaggingClassifier\n",
    "from xgboost.sklearn import XGBClassifier\n",
    "from sklearn.ensemble import VotingClassifier\n",
    "from sklearn.ensemble import StackingClassifier\n",
    "\n",
    "from sklearn.model_selection import GridSearchCV\n",
    "from bayes_opt import BayesianOptimization"
   ]
  },
  {
   "attachments": {},
   "cell_type": "markdown",
   "metadata": {},
   "source": [
    "#### 2. Reading Training Data"
   ]
  },
  {
   "cell_type": "code",
   "execution_count": 3,
   "metadata": {},
   "outputs": [
    {
     "data": {
      "text/html": [
       "<div>\n",
       "<style scoped>\n",
       "    .dataframe tbody tr th:only-of-type {\n",
       "        vertical-align: middle;\n",
       "    }\n",
       "\n",
       "    .dataframe tbody tr th {\n",
       "        vertical-align: top;\n",
       "    }\n",
       "\n",
       "    .dataframe thead th {\n",
       "        text-align: right;\n",
       "    }\n",
       "</style>\n",
       "<table border=\"1\" class=\"dataframe\">\n",
       "  <thead>\n",
       "    <tr style=\"text-align: right;\">\n",
       "      <th></th>\n",
       "      <th>0</th>\n",
       "      <th>1</th>\n",
       "      <th>2</th>\n",
       "      <th>3</th>\n",
       "      <th>4</th>\n",
       "      <th>5</th>\n",
       "      <th>6</th>\n",
       "      <th>7</th>\n",
       "      <th>8</th>\n",
       "      <th>9</th>\n",
       "      <th>...</th>\n",
       "      <th>4087</th>\n",
       "      <th>4088</th>\n",
       "      <th>4089</th>\n",
       "      <th>4090</th>\n",
       "      <th>4091</th>\n",
       "      <th>4092</th>\n",
       "      <th>4093</th>\n",
       "      <th>4094</th>\n",
       "      <th>4095</th>\n",
       "      <th>4096</th>\n",
       "    </tr>\n",
       "  </thead>\n",
       "  <tbody>\n",
       "    <tr>\n",
       "      <th>0</th>\n",
       "      <td>0.0</td>\n",
       "      <td>0.0</td>\n",
       "      <td>1.272801</td>\n",
       "      <td>0.290501</td>\n",
       "      <td>0.581446</td>\n",
       "      <td>0.0</td>\n",
       "      <td>0.0</td>\n",
       "      <td>0.0</td>\n",
       "      <td>0.0</td>\n",
       "      <td>0.0</td>\n",
       "      <td>...</td>\n",
       "      <td>1.645888</td>\n",
       "      <td>0.86964</td>\n",
       "      <td>0.302432</td>\n",
       "      <td>0.953719</td>\n",
       "      <td>0.022545</td>\n",
       "      <td>0.498048</td>\n",
       "      <td>0.0</td>\n",
       "      <td>0.034988</td>\n",
       "      <td>0.692382</td>\n",
       "      <td>Orange_Ripe</td>\n",
       "    </tr>\n",
       "    <tr>\n",
       "      <th>1</th>\n",
       "      <td>0.0</td>\n",
       "      <td>0.0</td>\n",
       "      <td>1.542096</td>\n",
       "      <td>0.0</td>\n",
       "      <td>0.896557</td>\n",
       "      <td>0.049978</td>\n",
       "      <td>0.0</td>\n",
       "      <td>0.0</td>\n",
       "      <td>0.117847</td>\n",
       "      <td>0.0</td>\n",
       "      <td>...</td>\n",
       "      <td>1.50422</td>\n",
       "      <td>0.622686</td>\n",
       "      <td>0.588427</td>\n",
       "      <td>0.524415</td>\n",
       "      <td>0.305426</td>\n",
       "      <td>0.386204</td>\n",
       "      <td>0.0</td>\n",
       "      <td>0.0</td>\n",
       "      <td>0.668196</td>\n",
       "      <td>Banana_Ripe</td>\n",
       "    </tr>\n",
       "    <tr>\n",
       "      <th>2</th>\n",
       "      <td>0.0</td>\n",
       "      <td>0.0</td>\n",
       "      <td>1.098595</td>\n",
       "      <td>0.571866</td>\n",
       "      <td>0.500355</td>\n",
       "      <td>0.0</td>\n",
       "      <td>0.0</td>\n",
       "      <td>0.0</td>\n",
       "      <td>0.493137</td>\n",
       "      <td>0.0</td>\n",
       "      <td>...</td>\n",
       "      <td>1.169341</td>\n",
       "      <td>0.913239</td>\n",
       "      <td>0.064404</td>\n",
       "      <td>0.53127</td>\n",
       "      <td>0.0</td>\n",
       "      <td>0.471604</td>\n",
       "      <td>0.0</td>\n",
       "      <td>0.0</td>\n",
       "      <td>0.65825</td>\n",
       "      <td>Mango_Raw</td>\n",
       "    </tr>\n",
       "    <tr>\n",
       "      <th>3</th>\n",
       "      <td>0.0</td>\n",
       "      <td>0.101666</td>\n",
       "      <td>1.159194</td>\n",
       "      <td>0.599216</td>\n",
       "      <td>0.893206</td>\n",
       "      <td>0.0</td>\n",
       "      <td>0.200139</td>\n",
       "      <td>0.0</td>\n",
       "      <td>0.645675</td>\n",
       "      <td>0.0</td>\n",
       "      <td>...</td>\n",
       "      <td>0.560686</td>\n",
       "      <td>1.243676</td>\n",
       "      <td>0.432523</td>\n",
       "      <td>0.701881</td>\n",
       "      <td>0.0</td>\n",
       "      <td>0.589985</td>\n",
       "      <td>0.0</td>\n",
       "      <td>0.0</td>\n",
       "      <td>0.591165</td>\n",
       "      <td>Leeche_Raw</td>\n",
       "    </tr>\n",
       "    <tr>\n",
       "      <th>4</th>\n",
       "      <td>0.0</td>\n",
       "      <td>0.0</td>\n",
       "      <td>1.178603</td>\n",
       "      <td>0.362568</td>\n",
       "      <td>0.577602</td>\n",
       "      <td>0.0</td>\n",
       "      <td>0.0</td>\n",
       "      <td>0.0</td>\n",
       "      <td>0.079862</td>\n",
       "      <td>0.0</td>\n",
       "      <td>...</td>\n",
       "      <td>1.206032</td>\n",
       "      <td>0.736831</td>\n",
       "      <td>0.345906</td>\n",
       "      <td>0.878515</td>\n",
       "      <td>0.119</td>\n",
       "      <td>0.261441</td>\n",
       "      <td>0.0</td>\n",
       "      <td>0.0</td>\n",
       "      <td>0.458905</td>\n",
       "      <td>Mango_Ripe</td>\n",
       "    </tr>\n",
       "  </tbody>\n",
       "</table>\n",
       "<p>5 rows × 4097 columns</p>\n",
       "</div>"
      ],
      "text/plain": [
       "  0         1         2         3         4         5         6    7     \\\n",
       "0  0.0       0.0  1.272801  0.290501  0.581446       0.0       0.0  0.0   \n",
       "1  0.0       0.0  1.542096       0.0  0.896557  0.049978       0.0  0.0   \n",
       "2  0.0       0.0  1.098595  0.571866  0.500355       0.0       0.0  0.0   \n",
       "3  0.0  0.101666  1.159194  0.599216  0.893206       0.0  0.200139  0.0   \n",
       "4  0.0       0.0  1.178603  0.362568  0.577602       0.0       0.0  0.0   \n",
       "\n",
       "       8    9     ...      4087      4088      4089      4090      4091  \\\n",
       "0       0.0  0.0  ...  1.645888   0.86964  0.302432  0.953719  0.022545   \n",
       "1  0.117847  0.0  ...   1.50422  0.622686  0.588427  0.524415  0.305426   \n",
       "2  0.493137  0.0  ...  1.169341  0.913239  0.064404   0.53127       0.0   \n",
       "3  0.645675  0.0  ...  0.560686  1.243676  0.432523  0.701881       0.0   \n",
       "4  0.079862  0.0  ...  1.206032  0.736831  0.345906  0.878515     0.119   \n",
       "\n",
       "       4092 4093      4094      4095         4096  \n",
       "0  0.498048  0.0  0.034988  0.692382  Orange_Ripe  \n",
       "1  0.386204  0.0       0.0  0.668196  Banana_Ripe  \n",
       "2  0.471604  0.0       0.0   0.65825    Mango_Raw  \n",
       "3  0.589985  0.0       0.0  0.591165   Leeche_Raw  \n",
       "4  0.261441  0.0       0.0  0.458905   Mango_Ripe  \n",
       "\n",
       "[5 rows x 4097 columns]"
      ]
     },
     "execution_count": 3,
     "metadata": {},
     "output_type": "execute_result"
    }
   ],
   "source": [
    "# Read the data from the file train.csv\n",
    "df = pd.read_csv('train.csv')\n",
    "data_matrix = np.array(df.values)\n",
    "\n",
    "# Drop the first column (id)\n",
    "data_matrix = np.delete(data_matrix, 0, 1)\n",
    "\n",
    "# Display as a table\n",
    "df_train = pd.DataFrame(data_matrix)\n",
    "df_train.head()"
   ]
  },
  {
   "attachments": {},
   "cell_type": "markdown",
   "metadata": {},
   "source": [
    "#### 3. Reading the Test Data"
   ]
  },
  {
   "cell_type": "code",
   "execution_count": 4,
   "metadata": {},
   "outputs": [
    {
     "data": {
      "text/html": [
       "<div>\n",
       "<style scoped>\n",
       "    .dataframe tbody tr th:only-of-type {\n",
       "        vertical-align: middle;\n",
       "    }\n",
       "\n",
       "    .dataframe tbody tr th {\n",
       "        vertical-align: top;\n",
       "    }\n",
       "\n",
       "    .dataframe thead th {\n",
       "        text-align: right;\n",
       "    }\n",
       "</style>\n",
       "<table border=\"1\" class=\"dataframe\">\n",
       "  <thead>\n",
       "    <tr style=\"text-align: right;\">\n",
       "      <th></th>\n",
       "      <th>0</th>\n",
       "      <th>1</th>\n",
       "      <th>2</th>\n",
       "      <th>3</th>\n",
       "      <th>4</th>\n",
       "      <th>5</th>\n",
       "      <th>6</th>\n",
       "      <th>7</th>\n",
       "      <th>8</th>\n",
       "      <th>9</th>\n",
       "      <th>...</th>\n",
       "      <th>4086</th>\n",
       "      <th>4087</th>\n",
       "      <th>4088</th>\n",
       "      <th>4089</th>\n",
       "      <th>4090</th>\n",
       "      <th>4091</th>\n",
       "      <th>4092</th>\n",
       "      <th>4093</th>\n",
       "      <th>4094</th>\n",
       "      <th>4095</th>\n",
       "    </tr>\n",
       "  </thead>\n",
       "  <tbody>\n",
       "    <tr>\n",
       "      <th>0</th>\n",
       "      <td>0.0</td>\n",
       "      <td>0.000000</td>\n",
       "      <td>0.908889</td>\n",
       "      <td>0.251257</td>\n",
       "      <td>0.662262</td>\n",
       "      <td>0.042495</td>\n",
       "      <td>0.000000</td>\n",
       "      <td>0.0</td>\n",
       "      <td>0.964784</td>\n",
       "      <td>0.0</td>\n",
       "      <td>...</td>\n",
       "      <td>0.694072</td>\n",
       "      <td>1.146161</td>\n",
       "      <td>1.483842</td>\n",
       "      <td>0.717836</td>\n",
       "      <td>0.472616</td>\n",
       "      <td>0.000000</td>\n",
       "      <td>0.488022</td>\n",
       "      <td>0.0</td>\n",
       "      <td>0.0</td>\n",
       "      <td>0.655670</td>\n",
       "    </tr>\n",
       "    <tr>\n",
       "      <th>1</th>\n",
       "      <td>0.0</td>\n",
       "      <td>0.000000</td>\n",
       "      <td>1.191055</td>\n",
       "      <td>0.407350</td>\n",
       "      <td>0.441898</td>\n",
       "      <td>0.000000</td>\n",
       "      <td>0.334858</td>\n",
       "      <td>0.0</td>\n",
       "      <td>0.295357</td>\n",
       "      <td>0.0</td>\n",
       "      <td>...</td>\n",
       "      <td>0.273436</td>\n",
       "      <td>1.466932</td>\n",
       "      <td>0.940850</td>\n",
       "      <td>0.470344</td>\n",
       "      <td>1.032085</td>\n",
       "      <td>0.000000</td>\n",
       "      <td>0.654070</td>\n",
       "      <td>0.0</td>\n",
       "      <td>0.0</td>\n",
       "      <td>0.614493</td>\n",
       "    </tr>\n",
       "    <tr>\n",
       "      <th>2</th>\n",
       "      <td>0.0</td>\n",
       "      <td>0.261903</td>\n",
       "      <td>0.992782</td>\n",
       "      <td>0.301102</td>\n",
       "      <td>0.636006</td>\n",
       "      <td>0.009558</td>\n",
       "      <td>0.009448</td>\n",
       "      <td>0.0</td>\n",
       "      <td>0.974949</td>\n",
       "      <td>0.0</td>\n",
       "      <td>...</td>\n",
       "      <td>0.000000</td>\n",
       "      <td>0.769983</td>\n",
       "      <td>0.834360</td>\n",
       "      <td>0.369656</td>\n",
       "      <td>1.000858</td>\n",
       "      <td>0.431571</td>\n",
       "      <td>0.361993</td>\n",
       "      <td>0.0</td>\n",
       "      <td>0.0</td>\n",
       "      <td>0.392158</td>\n",
       "    </tr>\n",
       "    <tr>\n",
       "      <th>3</th>\n",
       "      <td>0.0</td>\n",
       "      <td>0.000000</td>\n",
       "      <td>1.352401</td>\n",
       "      <td>0.346003</td>\n",
       "      <td>0.401412</td>\n",
       "      <td>0.000000</td>\n",
       "      <td>0.000000</td>\n",
       "      <td>0.0</td>\n",
       "      <td>0.450667</td>\n",
       "      <td>0.0</td>\n",
       "      <td>...</td>\n",
       "      <td>0.339935</td>\n",
       "      <td>1.325595</td>\n",
       "      <td>0.981124</td>\n",
       "      <td>0.486731</td>\n",
       "      <td>0.747392</td>\n",
       "      <td>0.000000</td>\n",
       "      <td>0.300671</td>\n",
       "      <td>0.0</td>\n",
       "      <td>0.0</td>\n",
       "      <td>0.628365</td>\n",
       "    </tr>\n",
       "    <tr>\n",
       "      <th>4</th>\n",
       "      <td>0.0</td>\n",
       "      <td>0.000000</td>\n",
       "      <td>1.114281</td>\n",
       "      <td>0.696140</td>\n",
       "      <td>0.121505</td>\n",
       "      <td>0.000000</td>\n",
       "      <td>0.000000</td>\n",
       "      <td>0.0</td>\n",
       "      <td>0.591384</td>\n",
       "      <td>0.0</td>\n",
       "      <td>...</td>\n",
       "      <td>0.093661</td>\n",
       "      <td>0.875113</td>\n",
       "      <td>0.360689</td>\n",
       "      <td>0.659230</td>\n",
       "      <td>0.546044</td>\n",
       "      <td>0.000000</td>\n",
       "      <td>0.427255</td>\n",
       "      <td>0.0</td>\n",
       "      <td>0.0</td>\n",
       "      <td>0.835671</td>\n",
       "    </tr>\n",
       "  </tbody>\n",
       "</table>\n",
       "<p>5 rows × 4096 columns</p>\n",
       "</div>"
      ],
      "text/plain": [
       "   0         1         2         3         4         5         6     7     \\\n",
       "0   0.0  0.000000  0.908889  0.251257  0.662262  0.042495  0.000000   0.0   \n",
       "1   0.0  0.000000  1.191055  0.407350  0.441898  0.000000  0.334858   0.0   \n",
       "2   0.0  0.261903  0.992782  0.301102  0.636006  0.009558  0.009448   0.0   \n",
       "3   0.0  0.000000  1.352401  0.346003  0.401412  0.000000  0.000000   0.0   \n",
       "4   0.0  0.000000  1.114281  0.696140  0.121505  0.000000  0.000000   0.0   \n",
       "\n",
       "       8     9     ...      4086      4087      4088      4089      4090  \\\n",
       "0  0.964784   0.0  ...  0.694072  1.146161  1.483842  0.717836  0.472616   \n",
       "1  0.295357   0.0  ...  0.273436  1.466932  0.940850  0.470344  1.032085   \n",
       "2  0.974949   0.0  ...  0.000000  0.769983  0.834360  0.369656  1.000858   \n",
       "3  0.450667   0.0  ...  0.339935  1.325595  0.981124  0.486731  0.747392   \n",
       "4  0.591384   0.0  ...  0.093661  0.875113  0.360689  0.659230  0.546044   \n",
       "\n",
       "       4091      4092  4093  4094      4095  \n",
       "0  0.000000  0.488022   0.0   0.0  0.655670  \n",
       "1  0.000000  0.654070   0.0   0.0  0.614493  \n",
       "2  0.431571  0.361993   0.0   0.0  0.392158  \n",
       "3  0.000000  0.300671   0.0   0.0  0.628365  \n",
       "4  0.000000  0.427255   0.0   0.0  0.835671  \n",
       "\n",
       "[5 rows x 4096 columns]"
      ]
     },
     "execution_count": 4,
     "metadata": {},
     "output_type": "execute_result"
    }
   ],
   "source": [
    "# Opening the test file for the test data\n",
    "df_test = pd.read_csv('test.csv')\n",
    "data_matrix_test = np.array(df_test.values)\n",
    "\n",
    "# Drop the first column (id)\n",
    "data_matrix_test = np.delete(data_matrix_test, 0, 1)\n",
    "\n",
    "# Display as a table\n",
    "df_test = pd.DataFrame(data_matrix_test)\n",
    "df_test.head()"
   ]
  },
  {
   "attachments": {},
   "cell_type": "markdown",
   "metadata": {},
   "source": [
    "#### 4. Outlier Detection\n",
    "- We perform outlier detection on the training data using Local Outlier Factor (LoF)"
   ]
  },
  {
   "cell_type": "code",
   "execution_count": 5,
   "metadata": {},
   "outputs": [
    {
     "name": "stdout",
     "output_type": "stream",
     "text": [
      "Number of outliers:  6\n",
      "(1211, 4097)\n"
     ]
    }
   ],
   "source": [
    "# Create a local outlier factor object\n",
    "lof = LocalOutlierFactor(n_neighbors=9, n_jobs=-1)\n",
    "\n",
    "# Fit and predict the data\n",
    "y_pred = lof.fit_predict(data_matrix[:, :-1])\n",
    "\n",
    "# Display the number of outliers\n",
    "print('Number of outliers: ', list(y_pred).count(-1))\n",
    "\n",
    "# Create a new dataframe with the outliers removed\n",
    "data_matrix = data_matrix[y_pred == 1]\n",
    "\n",
    "print(data_matrix.shape)"
   ]
  },
  {
   "attachments": {},
   "cell_type": "markdown",
   "metadata": {},
   "source": [
    "#### 5. Clustering\n",
    "- We try the various clustering techniques as mentioned in the report"
   ]
  },
  {
   "cell_type": "code",
   "execution_count": 6,
   "metadata": {},
   "outputs": [],
   "source": [
    "X_train_cluster = data_matrix[:, :-1].copy()"
   ]
  },
  {
   "attachments": {},
   "cell_type": "markdown",
   "metadata": {},
   "source": [
    "1. K-Means Clustering:"
   ]
  },
  {
   "cell_type": "code",
   "execution_count": 9,
   "metadata": {},
   "outputs": [],
   "source": [
    "# Perform KMeans clustering\n",
    "\n",
    "# Create an array for various k values\n",
    "k_values = np.arange(2, 20)\n",
    "\n",
    "# Create an array for the silhouette scores\n",
    "silhouette_scores = np.zeros(len(k_values))\n",
    "\n",
    "# Loop through the k values\n",
    "for i, k in enumerate(k_values):\n",
    "    # Create a kmeans object\n",
    "    kmeans = KMeans(n_clusters=k, random_state=0, n_init='auto')\n",
    "    \n",
    "    # Fit the data\n",
    "    kmeans.fit(X_train_cluster)\n",
    "    \n",
    "    # Get the silhouette score\n",
    "    silhouette_scores[i] = silhouette_score(X_train_cluster, kmeans.labels_)"
   ]
  },
  {
   "cell_type": "code",
   "execution_count": 8,
   "metadata": {},
   "outputs": [
    {
     "data": {
      "image/png": "[encoded data removed]",
      "text/plain": [
       "<Figure size 432x288 with 1 Axes>"
      ]
     },
     "metadata": {
      "needs_background": "light"
     },
     "output_type": "display_data"
    }
   ],
   "source": [
    "# Plot the silhouette scores\n",
    "plt.plot(k_values, silhouette_scores)\n",
    "plt.xticks(k_values)\n",
    "plt.xlabel('k')\n",
    "plt.ylabel('Silhouette Score')\n",
    "plt.show()"
   ]
  },
  {
   "attachments": {},
   "cell_type": "markdown",
   "metadata": {},
   "source": [
    "- The max-value we get for the score is 0.14 at $k=2$ after which it decreases progessively"
   ]
  },
  {
   "attachments": {},
   "cell_type": "markdown",
   "metadata": {},
   "source": [
    "2. Fuzzy c-Means Clustering:"
   ]
  },
  {
   "cell_type": "code",
   "execution_count": 13,
   "metadata": {},
   "outputs": [],
   "source": [
    "# Similiarly, we can perform clustering using fuzzy c-means\n",
    "X_train_cluster = data_matrix[:, :-1].copy()\n",
    "\n",
    "# Convert the data to float\n",
    "X_train_cluster = X_train_cluster.astype(np.float64)\n",
    "\n",
    "# Create an array for various c values\n",
    "c_values = np.arange(10, 20)\n",
    "\n",
    "# Create an array for the silhouette scores\n",
    "silhouette_scores = np.zeros(len(c_values))\n",
    "\n",
    "# Loop through the c values\n",
    "for i, c in enumerate(c_values):\n",
    "    # Create a fuzzy c-means object\n",
    "    fcm = FCM(n_clusters=c)\n",
    "    \n",
    "    # Fit the data\n",
    "    fcm.fit(X_train_cluster)\n",
    "    \n",
    "    # Get the silhouette score\n",
    "    silhouette_scores[i] = silhouette_score(X_train_cluster, fcm.u.argmax(axis=1))"
   ]
  },
  {
   "cell_type": "code",
   "execution_count": 14,
   "metadata": {},
   "outputs": [
    {
     "data": {
      "image/png": "[encoded data removed]",
      "text/plain": [
       "<Figure size 432x288 with 1 Axes>"
      ]
     },
     "metadata": {
      "needs_background": "light"
     },
     "output_type": "display_data"
    }
   ],
   "source": [
    "# Plot the silhouette scores\n",
    "plt.plot(c_values, silhouette_scores)\n",
    "plt.xticks(c_values)\n",
    "plt.xlabel('c')\n",
    "plt.ylabel('Silhouette Score')\n",
    "plt.show()"
   ]
  },
  {
   "attachments": {},
   "cell_type": "markdown",
   "metadata": {},
   "source": [
    "- The score remains constant for fuzzy means at 0.138"
   ]
  },
  {
   "attachments": {},
   "cell_type": "markdown",
   "metadata": {},
   "source": [
    "3. Mean Shift Clustering:"
   ]
  },
  {
   "cell_type": "code",
   "execution_count": 17,
   "metadata": {},
   "outputs": [],
   "source": [
    "# Similiarly, we can perform mean shift clustering\n",
    "X_train_cluster = data_matrix[:, :-1].copy()\n",
    "\n",
    "# Create an array for various bandwidth values\n",
    "bandwidth_values = np.arange(0.1, 1.0, 0.1)\n",
    "\n",
    "# Create an array for the silhouette scores\n",
    "silhouette_scores = np.zeros(len(bandwidth_values))\n",
    "\n",
    "# Loop through the bandwidth values\n",
    "for i, bandwidth in enumerate(bandwidth_values):\n",
    "    # Create a mean shift object\n",
    "    mean_shift = MeanShift(bandwidth=bandwidth)\n",
    "    \n",
    "    # Fit the data\n",
    "    mean_shift.fit(X_train_cluster)\n",
    "    \n",
    "    # Get the silhouette score\n",
    "    silhouette_scores[i] = silhouette_score(X_train_cluster, mean_shift.labels_)\n"
   ]
  },
  {
   "cell_type": "code",
   "execution_count": 18,
   "metadata": {},
   "outputs": [
    {
     "data": {
      "image/png": "[encoded data removed]",
      "text/plain": [
       "<Figure size 432x288 with 1 Axes>"
      ]
     },
     "metadata": {
      "needs_background": "light"
     },
     "output_type": "display_data"
    }
   ],
   "source": [
    "# Plot the silhouette scores\n",
    "plt.plot(bandwidth_values, silhouette_scores)\n",
    "plt.xticks(bandwidth_values)\n",
    "plt.xlabel('bandwidth')\n",
    "plt.ylabel('Silhouette Score')\n",
    "plt.show()"
   ]
  },
  {
   "attachments": {},
   "cell_type": "markdown",
   "metadata": {},
   "source": [
    "- Shows hardly any increase from 0.025 to 0.029 in the various bandwidths we estimate for this"
   ]
  },
  {
   "attachments": {},
   "cell_type": "markdown",
   "metadata": {},
   "source": [
    "4. DBSCAN Clustering:"
   ]
  },
  {
   "cell_type": "code",
   "execution_count": 16,
   "metadata": {},
   "outputs": [
    {
     "name": "stdout",
     "output_type": "stream",
     "text": [
      "Number of clusters:  0\n"
     ]
    }
   ],
   "source": [
    "# Similiarly, we can perform clustering using DBSCAN\n",
    "X_train_cluster = data_matrix[:, :-1].copy()\n",
    "\n",
    "# Perform DBSCAN clustering\n",
    "dbscan = DBSCAN(eps=0.5, min_samples=5, n_jobs=-1)\n",
    "\n",
    "# Fit the data\n",
    "dbscan.fit(X_train_cluster)\n",
    "\n",
    "# Get the labels\n",
    "labels = dbscan.labels_\n",
    "\n",
    "# Print the number of clusters\n",
    "print('Number of clusters: ', len(set(labels)) - (1 if -1 in labels else 0))\n"
   ]
  },
  {
   "attachments": {},
   "cell_type": "markdown",
   "metadata": {},
   "source": [
    "- Everything is classified as noise by DBSCAN clustering"
   ]
  },
  {
   "attachments": {},
   "cell_type": "markdown",
   "metadata": {},
   "source": [
    "### 6. Dimensionality Reduction\n",
    "\n",
    "1. Principal Component Analysis"
   ]
  },
  {
   "cell_type": "code",
   "execution_count": 21,
   "metadata": {},
   "outputs": [
    {
     "name": "stdout",
     "output_type": "stream",
     "text": [
      "191\n"
     ]
    }
   ],
   "source": [
    "X_train_dim = data_matrix[:, :-1].copy()\n",
    "scaler = StandardScaler()\n",
    "scaler.fit(X_train_dim)\n",
    "X_train_dim = scaler.transform(X_train_dim)\n",
    "\n",
    "# Finding the number of components that explain 90% of the variance\n",
    "exp_var = []\n",
    "e, v = np.linalg.eig(np.cov(X_train_dim .T))\n",
    "e = np.sort(e)[::-1]\n",
    "for i in range(4096):\n",
    "    exp_var.append(np.sum(e[0:i])/np.sum(e))\n",
    "\n",
    "X_var = [i+1 for i in range(4096)]\n",
    "\n",
    "i = 0\n",
    "while i < 4096:\n",
    "    if exp_var[i] > 0.9:\n",
    "        print(i)\n",
    "        break\n",
    "    i += 1"
   ]
  },
  {
   "cell_type": "code",
   "execution_count": 22,
   "metadata": {},
   "outputs": [
    {
     "name": "stderr",
     "output_type": "stream",
     "text": [
      "/Library/Frameworks/Python.framework/Versions/3.10/lib/python3.10/site-packages/matplotlib/cbook/__init__.py:1298: ComplexWarning: Casting complex values to real discards the imaginary part\n",
      "  return np.asarray(x, float)\n",
      "/Library/Frameworks/Python.framework/Versions/3.10/lib/python3.10/site-packages/matplotlib/collections.py:200: ComplexWarning: Casting complex values to real discards the imaginary part\n",
      "  offsets = np.asanyarray(offsets, float)\n"
     ]
    },
    {
     "data": {
      "image/png": "[encoded data removed]",
      "text/plain": [
       "<Figure size 720x360 with 1 Axes>"
      ]
     },
     "metadata": {
      "needs_background": "light"
     },
     "output_type": "display_data"
    }
   ],
   "source": [
    "# Plotting the explained-variance vs number of principal components\n",
    "plt.figure(figsize=(10, 5))\n",
    "ax = plt.subplot()\n",
    "ax.stem(i, 0.9, linefmt='grey', markerfmt='ro', label=\"90% Explained Variance\")\n",
    "plt.plot(X_var[:800], exp_var[:800])\n",
    "plt.scatter(i, exp_var[i], color='red')\n",
    "plt.xlabel(\"Number of Principal Components\")\n",
    "plt.ylabel(\"Explained Variance\")\n",
    "plt.legend()\n",
    "plt.grid()\n",
    "plt.show()"
   ]
  },
  {
   "attachments": {},
   "cell_type": "markdown",
   "metadata": {},
   "source": [
    "2. Fine-Tuning PCA with LDA\n",
    "- We find the ideal range of principal components for PCA \n",
    "- We then perform Linear Discriminant Analysis (LDA) and test validation accuracy with a basic Logistic Regression"
   ]
  },
  {
   "cell_type": "code",
   "execution_count": 74,
   "metadata": {},
   "outputs": [],
   "source": [
    "X_train = data_matrix[:, :-1].copy()\n",
    "y_train = data_matrix[:, -1].copy()\n",
    "\n",
    "X_test = data_matrix_test.copy()"
   ]
  },
  {
   "attachments": {},
   "cell_type": "markdown",
   "metadata": {},
   "source": [
    "- Splitting the data for training and testing"
   ]
  },
  {
   "cell_type": "code",
   "execution_count": 75,
   "metadata": {},
   "outputs": [],
   "source": [
    "# Split the X_train and y_train into training and validation sets\n",
    "X_train2, X_val, y_train2, y_val = train_test_split(X_train, y_train, test_size=0.25, random_state=0)\n"
   ]
  },
  {
   "cell_type": "code",
   "execution_count": 29,
   "metadata": {},
   "outputs": [],
   "source": [
    "# Make a list of Principal Components\n",
    "pcs = np.arange(300, 420, 5)\n",
    "\n",
    "# Create an array for the validation scores\n",
    "val_scores = np.zeros(len(pcs))\n",
    "\n",
    "# Loop through the principal components\n",
    "for i, pc in enumerate(pcs):\n",
    "    # Prepare the data\n",
    "    X_train = X_train2.copy()\n",
    "    y_train = y_train2.copy()\n",
    "    X_test = X_val.copy()\n",
    "    y_test = y_val.copy()\n",
    "\n",
    "    # Create a PCA object\n",
    "    pca = PCA(n_components=pc)\n",
    "\n",
    "    # Fit the PCA object to the training data\n",
    "    pca.fit(X_train)\n",
    "\n",
    "    # Transform the training data\n",
    "    X_train = pca.transform(X_train)\n",
    "\n",
    "    # Transform the test data\n",
    "    X_test = pca.transform(X_test)\n",
    "\n",
    "    # Apply LDA\n",
    "    lda = LDA(n_components=19)\n",
    "\n",
    "    lda.fit(X_train, y_train)\n",
    "\n",
    "    # Transform the training data\n",
    "    X_train = lda.transform(X_train)\n",
    "\n",
    "    # Transform the test data\n",
    "    X_test = lda.transform(X_test)\n",
    "\n",
    "    # Create a logistic regression object\n",
    "    log_reg = LogisticRegression(max_iter=1000)\n",
    "\n",
    "    # Fit the data\n",
    "    log_reg.fit(X_train, y_train)\n",
    "\n",
    "    # Get the validation score\n",
    "    val_scores[i] = log_reg.score(X_test, y_test)"
   ]
  },
  {
   "cell_type": "code",
   "execution_count": 30,
   "metadata": {},
   "outputs": [
    {
     "data": {
      "image/png": "[encoded data removed]",
      "text/plain": [
       "<Figure size 720x360 with 1 Axes>"
      ]
     },
     "metadata": {
      "needs_background": "light"
     },
     "output_type": "display_data"
    }
   ],
   "source": [
    "# Plot the validation scores in a graph of size 10x5\n",
    "plt.figure(figsize=(10, 5))\n",
    "plt.plot(pcs, val_scores)\n",
    "plt.xticks(pcs)\n",
    "plt.xlabel('Number of Principal Components')\n",
    "plt.ylabel('Validation Score')\n",
    "plt.show()"
   ]
  },
  {
   "cell_type": "code",
   "execution_count": 76,
   "metadata": {},
   "outputs": [],
   "source": [
    "# Prepare the data\n",
    "X_train = X_train2.copy()\n",
    "y_train = y_train2.copy()\n",
    "X_test = X_val.copy()\n",
    "y_test = y_val.copy()"
   ]
  },
  {
   "attachments": {},
   "cell_type": "markdown",
   "metadata": {},
   "source": [
    "- After multiple iterations, we choose a random number of principal components between 340 and 360 \n",
    "- This is because, this range of principal components is averaging accuracy greater than 82% on multiple iterations on the test data"
   ]
  },
  {
   "cell_type": "code",
   "execution_count": 77,
   "metadata": {},
   "outputs": [],
   "source": [
    "# Create a PCA object\n",
    "pca = PCA(n_components=356)\n",
    "\n",
    "# Fit the PCA object to the training data\n",
    "pca.fit(X_train)\n",
    "\n",
    "# Transform the training data\n",
    "X_train = pca.transform(X_train)\n",
    "\n",
    "# Transform the test data\n",
    "X_test = pca.transform(X_test)"
   ]
  },
  {
   "cell_type": "code",
   "execution_count": 78,
   "metadata": {},
   "outputs": [],
   "source": [
    "# Apply LDA\n",
    "lda = LDA(n_components=19)\n",
    "\n",
    "# Fit the data to the LDA model\n",
    "lda.fit(X_train, y_train)\n",
    "\n",
    "# Transform the training data\n",
    "X_train = lda.transform(X_train)\n",
    "\n",
    "# Transform the test data\n",
    "X_test = lda.transform(X_test)"
   ]
  },
  {
   "attachments": {},
   "cell_type": "markdown",
   "metadata": {},
   "source": [
    "#### 7. Machine Learning Techniques"
   ]
  },
  {
   "attachments": {},
   "cell_type": "markdown",
   "metadata": {},
   "source": [
    "- On the pre-processed data, we apply various machine learning models to create the best possible classifier"
   ]
  },
  {
   "attachments": {},
   "cell_type": "markdown",
   "metadata": {},
   "source": [
    "1. k-Nearest Neighbors Classifier"
   ]
  },
  {
   "cell_type": "code",
   "execution_count": 79,
   "metadata": {},
   "outputs": [
    {
     "data": {
      "image/png": "[encoded data removed]",
      "text/plain": [
       "<Figure size 432x288 with 1 Axes>"
      ]
     },
     "metadata": {
      "needs_background": "light"
     },
     "output_type": "display_data"
    }
   ],
   "source": [
    "# Create a KNN classifier with and test from 1 to 15 neighbors\n",
    "# Create a list of K for KNN\n",
    "k_list = list(range(1, 15))\n",
    "\n",
    "# Run the knn classifier for each k and store the accuracy\n",
    "accuracy = []\n",
    "for k in k_list:\n",
    "    knn = KNeighborsClassifier(n_neighbors=k)\n",
    "    knn.fit(X_train, y_train)\n",
    "    y_pred = knn.predict(X_test)\n",
    "    accuracy.append(accuracy_score(y_test, y_pred))\n",
    "\n",
    "# Plot the accuracy for each k\n",
    "import matplotlib.pyplot as plt\n",
    "\n",
    "plt.plot(k_list, accuracy)\n",
    "plt.xticks(k_list)\n",
    "plt.xlabel('Number of Neighbors K')\n",
    "plt.ylabel('Testing Accuracy')\n",
    "plt.show()"
   ]
  },
  {
   "attachments": {},
   "cell_type": "markdown",
   "metadata": {},
   "source": [
    "2. Naives Bayes Classifier"
   ]
  },
  {
   "cell_type": "code",
   "execution_count": 80,
   "metadata": {},
   "outputs": [
    {
     "name": "stdout",
     "output_type": "stream",
     "text": [
      "Accuracy: 0.8316831683168316\n"
     ]
    }
   ],
   "source": [
    "# Create a Gaussian Classifier\n",
    "model = GaussianNB()\n",
    "\n",
    "# Train the model using the training sets\n",
    "model.fit(X_train, y_train)\n",
    "\n",
    "# Predict the response for test dataset\n",
    "y_pred = model.predict(X_test)\n",
    "\n",
    "# Model Accuracy, how often is the classifier correct?\n",
    "print(\"Accuracy:\", accuracy_score(y_test, y_pred))"
   ]
  },
  {
   "attachments": {},
   "cell_type": "markdown",
   "metadata": {},
   "source": [
    "3. Logistic Regression"
   ]
  },
  {
   "cell_type": "code",
   "execution_count": 83,
   "metadata": {},
   "outputs": [
    {
     "name": "stdout",
     "output_type": "stream",
     "text": [
      "Validation Accuracy: 0.834983498349835\n"
     ]
    }
   ],
   "source": [
    "# Create a logistic regression object\n",
    "logreg = LogisticRegression(multi_class='multinomial',solver='newton-cg',max_iter=1000, class_weight='balanced')\n",
    "\n",
    "# Train the model using the training sets\n",
    "logreg.fit(X_train, y_train)\n",
    "\n",
    "# Predict the response for validation set\n",
    "y_pred = logreg.predict(X_test)\n",
    "\n",
    "# Model Accuracy, how often is the classifier correct?\n",
    "print(\"Validation Accuracy:\", accuracy_score(y_val, y_pred))"
   ]
  },
  {
   "attachments": {},
   "cell_type": "markdown",
   "metadata": {},
   "source": [
    "4. Decision Tree Classifier"
   ]
  },
  {
   "cell_type": "code",
   "execution_count": 82,
   "metadata": {},
   "outputs": [
    {
     "name": "stdout",
     "output_type": "stream",
     "text": [
      "Validation Accuracy: 0.5874587458745875\n"
     ]
    }
   ],
   "source": [
    "# Create a Decision Tree Classifier\n",
    "clf = DecisionTreeClassifier(max_depth=20, min_samples_leaf=3, min_samples_split=6, random_state=0)\n",
    "\n",
    "# Train the model using the training sets\n",
    "clf.fit(X_train, y_train)\n",
    "\n",
    "# Predict the response for validation set\n",
    "y_pred = clf.predict(X_test)\n",
    "\n",
    "# Model Accuracy, how often is the classifier correct?\n",
    "print(\"Validation Accuracy:\", accuracy_score(y_val, y_pred))"
   ]
  },
  {
   "attachments": {},
   "cell_type": "markdown",
   "metadata": {},
   "source": [
    "- We see that Logistic Regression consistently gives the best classification accuracy on the train-test split\n",
    "- We then use the LR Model trained in the previous steps and use it to train the Ensemble Methods"
   ]
  },
  {
   "attachments": {},
   "cell_type": "markdown",
   "metadata": {},
   "source": [
    "#### 8. Ensemble Techniques\n",
    "1. Random Forest Classifier"
   ]
  },
  {
   "cell_type": "code",
   "execution_count": 85,
   "metadata": {},
   "outputs": [
    {
     "name": "stdout",
     "output_type": "stream",
     "text": [
      "Validation Accuracy: 0.8052805280528053\n"
     ]
    }
   ],
   "source": [
    "rf = RandomForestClassifier(n_estimators=1000, bootstrap=False, max_depth=90, min_samples_leaf=3, min_samples_split=6, n_jobs=-1, random_state=0)\n",
    "\n",
    "# Train the classifier\n",
    "rf.fit(X_train, y_train)\n",
    "\n",
    "# Predict the validation set\n",
    "y_pred = rf.predict(X_test)\n",
    "\n",
    "# Calculate the accuracy\n",
    "from sklearn.metrics import accuracy_score\n",
    "\n",
    "print(\"Validation Accuracy:\", accuracy_score(y_val, y_pred))"
   ]
  },
  {
   "attachments": {},
   "cell_type": "markdown",
   "metadata": {},
   "source": [
    "2. Gradient Boosting Classifier"
   ]
  },
  {
   "cell_type": "code",
   "execution_count": 93,
   "metadata": {},
   "outputs": [
    {
     "name": "stdout",
     "output_type": "stream",
     "text": [
      "Validation Accuracy:  0.7161716171617162\n"
     ]
    }
   ],
   "source": [
    "#Create a Gradient Boosting Classifier\n",
    "from sklearn.ensemble import GradientBoostingClassifier\n",
    "\n",
    "# Create a Gradient Boosting model\n",
    "gb = GradientBoostingClassifier(n_estimators=400, learning_rate=0.01, max_depth=3, random_state=0)\n",
    "\n",
    "# Fit the model to the training data\n",
    "gb.fit(X_train, y_train)\n",
    "\n",
    "#Predict the labels of the test data\n",
    "y_pred = gb.predict(X_test)\n",
    "\n",
    "# Calculate the accuracy of the model\n",
    "accuracy = np.sum(y_pred == y_val) / len(y_val)\n",
    "print('Validation Accuracy: ', accuracy)\n"
   ]
  },
  {
   "attachments": {},
   "cell_type": "markdown",
   "metadata": {},
   "source": [
    "3. ADABoost Classifier"
   ]
  },
  {
   "cell_type": "code",
   "execution_count": 90,
   "metadata": {},
   "outputs": [
    {
     "name": "stdout",
     "output_type": "stream",
     "text": [
      "Validation Accuracy: 0.8217821782178217\n"
     ]
    }
   ],
   "source": [
    "# Create a Adaboost Classifier\n",
    "from sklearn.ensemble import AdaBoostClassifier\n",
    "\n",
    "# Create adaboost classifer object\n",
    "abc = AdaBoostClassifier(estimator=log_reg, n_estimators=400, learning_rate=0.01, random_state=0)\n",
    "\n",
    "# Train Adaboost Classifer\n",
    "model = abc.fit(X_train, y_train)\n",
    "\n",
    "# Predict the response for validation set\n",
    "y_pred = model.predict(X_test)\n",
    "\n",
    "# Model Accuracy, how often is the classifier correct?\n",
    "print(\"Validation Accuracy:\",accuracy_score(y_val, y_pred))"
   ]
  },
  {
   "attachments": {},
   "cell_type": "markdown",
   "metadata": {},
   "source": [
    "4. Bagging Classifier"
   ]
  },
  {
   "cell_type": "code",
   "execution_count": 94,
   "metadata": {},
   "outputs": [
    {
     "name": "stdout",
     "output_type": "stream",
     "text": [
      "Validation Accuracy: 0.834983498349835\n"
     ]
    }
   ],
   "source": [
    "# Create a Bagging Classifier object\n",
    "bag_clf = BaggingClassifier(estimator=logreg, n_estimators=100, bootstrap=True, n_jobs=-1, random_state=0)\n",
    "\n",
    "# Train the classifier\n",
    "bag_clf.fit(X_train, y_train)\n",
    "\n",
    "# Predict the validation set\n",
    "y_pred = bag_clf.predict(X_test)\n",
    "\n",
    "# Calculate the accuracy\n",
    "print(\"Validation Accuracy:\", accuracy_score(y_val, y_pred))"
   ]
  },
  {
   "attachments": {},
   "cell_type": "markdown",
   "metadata": {},
   "source": [
    "5. Stacking Classifier"
   ]
  },
  {
   "cell_type": "code",
   "execution_count": 95,
   "metadata": {},
   "outputs": [
    {
     "name": "stdout",
     "output_type": "stream",
     "text": [
      "Validation Accuracy: 0.8316831683168316\n"
     ]
    }
   ],
   "source": [
    "# Create a Stacking Classifier object\n",
    "from sklearn.ensemble import StackingClassifier\n",
    "\n",
    "# Create a list of classifiers\n",
    "level0 = [('logreg', logreg), ('nb', model), ('bag_clf', bag_clf)]\n",
    "level1 = logreg\n",
    "\n",
    "# Create a stacking classifier object\n",
    "stack_clf = StackingClassifier(estimators=level0, final_estimator=level1, cv=5, n_jobs=-1, passthrough=True)\n",
    "\n",
    "# Train the classifier\n",
    "stack_clf.fit(X_train, y_train)\n",
    "\n",
    "# Predict the validation set\n",
    "y_pred = stack_clf.predict(X_test)\n",
    "\n",
    "# Calculate the accuracy\n",
    "print(\"Validation Accuracy:\", accuracy_score(y_val, y_pred))"
   ]
  },
  {
   "attachments": {},
   "cell_type": "markdown",
   "metadata": {},
   "source": [
    "6. Voting Classifier"
   ]
  },
  {
   "cell_type": "code",
   "execution_count": 96,
   "metadata": {},
   "outputs": [
    {
     "name": "stdout",
     "output_type": "stream",
     "text": [
      "Validation Accuracy: 0.8382838283828383\n"
     ]
    }
   ],
   "source": [
    "# Create a voting classifier object\n",
    "from sklearn.ensemble import VotingClassifier\n",
    "\n",
    "# Create a list of classifiers\n",
    "estimators = [('logreg', logreg), ('nb', model), ('bag_clf', bag_clf), ('stack_clf', stack_clf)]\n",
    "\n",
    "# Create a voting classifier object\n",
    "ensemble = VotingClassifier(estimators, voting='hard')\n",
    "\n",
    "# Train the classifier\n",
    "ensemble.fit(X_train, y_train)\n",
    "\n",
    "# Predict the validation set\n",
    "y_pred = ensemble.predict(X_test)\n",
    "\n",
    "# Calculate the accuracy\n",
    "print(\"Validation Accuracy:\", accuracy_score(y_val, y_pred))"
   ]
  },
  {
   "attachments": {},
   "cell_type": "markdown",
   "metadata": {},
   "source": [
    "#### 8. Predicting on Final Test Data"
   ]
  },
  {
   "cell_type": "code",
   "execution_count": 98,
   "metadata": {},
   "outputs": [],
   "source": [
    "X_train = data_matrix[:, :-1].copy()\n",
    "y_train = data_matrix[:, -1].copy()\n",
    "\n",
    "X_test = data_matrix_test.copy()"
   ]
  },
  {
   "cell_type": "code",
   "execution_count": 99,
   "metadata": {},
   "outputs": [],
   "source": [
    "# We will use the same PCA and LDA models as before\n",
    "# Transform the training data\n",
    "X_train = pca.transform(X_train)\n",
    "\n",
    "# Transform the test data\n",
    "X_test = pca.transform(X_test)\n",
    "\n",
    "# Fit the data to the LDA model\n",
    "lda.fit(X_train, y_train)   \n",
    "\n",
    "# Transform the training data\n",
    "X_train = lda.transform(X_train)\n",
    "\n",
    "# Transform the test data\n",
    "X_test = lda.transform(X_test)"
   ]
  },
  {
   "cell_type": "code",
   "execution_count": 100,
   "metadata": {},
   "outputs": [],
   "source": [
    "# We will use the Logistic Regression model as before to make predictions\n",
    "\n",
    "# Fit the model to the training data\n",
    "logreg.fit(X_train, y_train)\n",
    "\n",
    "# Predict the response for validation set\n",
    "y_pred = logreg.predict(X_test)"
   ]
  },
  {
   "cell_type": "code",
   "execution_count": null,
   "metadata": {},
   "outputs": [],
   "source": [
    "# Opening the file to write the predictions\n",
    "file = open('submission.csv', 'w')\n",
    "\n",
    "# Writing the header\n",
    "file.write('ID,Category')\n",
    "for i in range(len(y_pred)):\n",
    "    file.write('\\n')\n",
    "    file.write(str(i))\n",
    "    file.write(',')\n",
    "    file.write(y_pred[i])\n",
    "\n",
    "file.close()"
   ]
  }
 ],
 "metadata": {
  "kernelspec": {
   "display_name": "Python 3",
   "language": "python",
   "name": "python3"
  },
  "language_info": {
   "codemirror_mode": {
    "name": "ipython",
    "version": 3
   },
   "file_extension": ".py",
   "mimetype": "text/x-python",
   "name": "python",
   "nbconvert_exporter": "python",
   "pygments_lexer": "ipython3",
   "version": "3.10.0"
  },
  "orig_nbformat": 4
 },
 "nbformat": 4,
 "nbformat_minor": 2
}
