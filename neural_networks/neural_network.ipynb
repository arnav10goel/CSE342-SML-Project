{
 "cells": [
  {
   "cell_type": "code",
   "execution_count": 120,
   "metadata": {},
   "outputs": [],
   "source": [
    "from  sklearn.metrics  import  accuracy_score\n",
    "# import train_test_split\n",
    "from  sklearn.model_selection  import  train_test_split\n",
    "import pandas  as  pd\n",
    "import numpy  as  np\n",
    "import csv"
   ]
  },
  {
   "cell_type": "code",
   "execution_count": 121,
   "metadata": {},
   "outputs": [
    {
     "name": "stdout",
     "output_type": "stream",
     "text": [
      "[3, 1, 0, 15, 19, 10, 18, 2, 5, 16, 17, 7, 9, 4, 13, 14, 12, 11, 6, 8]\n",
      "[86, 81, 78, 77, 75, 72, 65, 63, 58, 58, 57, 56, 55, 54, 54, 51, 48, 46, 45, 37]\n",
      "(1216, 4097)\n",
      "(1216, 4096)\n"
     ]
    }
   ],
   "source": [
    "# load data from csv file\n",
    "df  =  pd.read_csv( 'train.csv' )\n",
    "# convert all string labels to codes\n",
    "categories_list = df[ 'category' ].astype( 'category' ).cat.categories\n",
    "df[ 'category' ] = df[ 'category' ].astype('category').cat.codes\n",
    "# store category codes in y\n",
    "\n",
    "# count number of occurences of each category\n",
    "counts = df[ 'category' ].value_counts()\n",
    "# store category names in a list\n",
    "categories = counts.index.tolist()\n",
    "# store category counts in a list\n",
    "counts = counts.tolist()\n",
    "print(categories)\n",
    "print(counts)\n",
    "\n",
    "data = np.array(df.values)\n",
    "\n",
    "# drop first column\n",
    "data = data[:,1:]\n",
    "print(data.shape)\n",
    "\n",
    "# split the data into X and y\n",
    "X = data[:,:-1]\n",
    "y = data[:,-1]\n",
    "data = X\n",
    "print(data.shape)"
   ]
  },
  {
   "cell_type": "code",
   "execution_count": 122,
   "metadata": {},
   "outputs": [],
   "source": [
    "# remove linearly dependent columns using qr decomposition\n",
    "# Q, R = np.linalg.qr(data)\n",
    "# data = Q[:, np.abs(np.diag(R)) > 1e-10]\n",
    "\n",
    "# print(data.shape)\n",
    "# print(X.shape)\n"
   ]
  },
  {
   "cell_type": "code",
   "execution_count": 123,
   "metadata": {},
   "outputs": [],
   "source": [
    "# delete the outliers that have md < 800 from the data\n",
    "# convert the first column to integers\n",
    "# np_outliers[:,0] = np_outliers[:,0].astype(int)\n",
    "# out = np_outliers[np_outliers[:,1] < 800, 0]\n",
    "# out = out.astype(int)\n",
    "# data_clean = np.delete(data, out, axis=0)\n",
    "# y_clean = np.delete(y, out, axis=0)\n",
    "# print(data_clean.shape)\n",
    "# print(y_clean.shape)\n",
    "# print(data.shape)\n",
    "# print(y.shape)"
   ]
  },
  {
   "cell_type": "code",
   "execution_count": 124,
   "metadata": {},
   "outputs": [],
   "source": [
    "# train a neural network on this data\n",
    "# split data into training and testing\n",
    "# get X_new_train\n",
    "X_df = pd.read_csv('train.csv')\n",
    "X_new_train = X_df.values\n",
    "X_train, X_test, y_train, y_test = train_test_split(X, y, test_size=0.2, random_state=2)\n"
   ]
  },
  {
   "cell_type": "code",
   "execution_count": 125,
   "metadata": {},
   "outputs": [],
   "source": [
    "# standardize the data\n",
    "from  sklearn.preprocessing  import  StandardScaler\n",
    "scaler = StandardScaler()\n",
    "scaler.fit(X_train)\n",
    "\n",
    "X_train = scaler.transform(X_train)\n",
    "X_test = scaler.transform(X_test)"
   ]
  },
  {
   "cell_type": "code",
   "execution_count": 126,
   "metadata": {},
   "outputs": [],
   "source": [
    "# do pca on the data\n",
    "# from sklearn.decomposition import PCA\n",
    "# pca = PCA(n_components=800)\n",
    "# pca.fit(X_train)\n",
    "# X_train = pca.transform(X_train)\n",
    "# print(X_train.shape)\n",
    "\n",
    "# X_test = pca.transform(X_test)"
   ]
  },
  {
   "cell_type": "code",
   "execution_count": 127,
   "metadata": {},
   "outputs": [],
   "source": [
    "# run lda on this\n",
    "# from  sklearn.discriminant_analysis  import  LinearDiscriminantAnalysis\n",
    "# lda = LinearDiscriminantAnalysis(n_components=19)\n",
    "# lda.fit(X_train, y_train)\n",
    "\n",
    "# X_train_lda = lda.transform(X_train)\n",
    "# X_test_lda = lda.transform(X_test)"
   ]
  },
  {
   "cell_type": "code",
   "execution_count": 128,
   "metadata": {},
   "outputs": [],
   "source": [
    "# # run logistic regression on this data\n",
    "# from  sklearn.linear_model  import  LogisticRegression\n",
    "# logisticRegr = LogisticRegression()\n",
    "# logisticRegr.fit(X_train, y_train)\n",
    "\n",
    "# # predict on test data\n",
    "# predictions = logisticRegr.predict(X_test)\n",
    "\n",
    "# # print accuracy\n",
    "# print(accuracy_score(y_test, predictions))\n",
    "\n",
    "# run LR on lda data\n",
    "# logisticRegr = LogisticRegression()\n",
    "# logisticRegr.fit(X_train_lda, y_train)\n",
    "\n",
    "# # predict on test data\n",
    "# predictions = logisticRegr.predict(X_test_lda)\n",
    "\n",
    "# # print accuracy\n",
    "# print(accuracy_score(y_test, predictions))"
   ]
  },
  {
   "cell_type": "code",
   "execution_count": 129,
   "metadata": {},
   "outputs": [
    {
     "name": "stdout",
     "output_type": "stream",
     "text": [
      "0.7745901639344263\n",
      "0.7704918032786885\n",
      "0.7745901639344263\n",
      "0.7622950819672131\n"
     ]
    }
   ],
   "source": [
    "# import neural network\n",
    "from  sklearn.neural_network  import  MLPClassifier\n",
    "\n",
    "# create a neural network with adam, 1e-5, 284, 52, 42, 10000\n",
    "# run a for loop, increasing the number of hidden layers by 1 in each iteration\n",
    "# for i in range(45, 65):\n",
    "#     print(\"\\t\" + str(i), end=\"\")\n",
    "# print()\n",
    "# for j in range(280, 300):\n",
    "#     print(str(j) + \"\\t\", end=\"\")\n",
    "#     for i in range(45, 65):\n",
    "#         clf = MLPClassifier(solver='adam' , alpha=1e-5, hidden_layer_sizes=(j, i), random_state=42, max_iter=10000)\n",
    "#         clf.fit(X_train, y_train)\n",
    "#         y_pred = clf.predict(X_test)\n",
    "#         print(str(round(accuracy_score(y_test, y_pred)*1216*0.2)), end=\"\\t\")\n",
    "#     print()\n",
    "\n",
    "# create a neural network\n",
    "for i in range(1, 5):\n",
    "    # clf = MLPClassifier(solver='adam' , alpha=1e-5, random_state=i, max_iter=10000, hidden_layer_sizes=(300, 60))\n",
    "    # clf = MLPClassifier(solver='lbfgs' , alpha=1e-5, random_state=i, max_iter=10000, hidden_layer_sizes=(300, 59))\n",
    "    clf = MLPClassifier(solver='adam' , alpha=1e-5, random_state=i, max_iter=10000, hidden_layer_sizes=(448, 119, 170, 116))\n",
    "    clf.fit(X_train, y_train)\n",
    "\n",
    "    # predict on test data\n",
    "    y_pred = clf.predict(X_test)\n",
    "\n",
    "    # print accuracy\n",
    "    print(accuracy_score(y_test, y_pred))\n",
    "\n",
    "# # do k fold cross validation\n",
    "# from  sklearn.model_selection  import  cross_val_score\n",
    "# scores = cross_val_score(clf, X_train, y_train, cv=5)\n",
    "# print(scores)\n",
    "# print(scores.mean())\n",
    "\n",
    "# do grid search\n",
    "# from  sklearn.model_selection  import  GridSearchCV\n",
    "\n",
    "# # define the parameter values that should be searched\n",
    "# alpha_range = [1e-5]\n",
    "# hidden_layer_sizes = []\n",
    "# for i in range(106, 120, 1):\n",
    "#     # for j in range(50, 100, 10):\n",
    "#     #     for k in range(50, 100, 10):\n",
    "#     #         for l in range(50, 100, 10):\n",
    "#                 hidden_layer_sizes += [(448, 119, 170, i)]\n",
    "\n",
    "# # create a parameter grid: map the parameter names to the values that should be searched\n",
    "# param_grid = dict(alpha=alpha_range, hidden_layer_sizes=hidden_layer_sizes)\n",
    "# # instantiate the grid\n",
    "# grid = GridSearchCV(clf, param_grid, cv=4, scoring='accuracy', verbose=2, n_jobs=4)\n",
    "\n",
    "# # fit the grid with data\n",
    "# grid.fit(X_train, y_train)\n",
    "\n",
    "# # # view the complete results (list of named tuples)\n",
    "# grid.cv_results_\n"
   ]
  },
  {
   "cell_type": "code",
   "execution_count": 130,
   "metadata": {},
   "outputs": [
    {
     "name": "stdout",
     "output_type": "stream",
     "text": [
      "0.7510288065843622\n",
      "{'alpha': 1e-05, 'hidden_layer_sizes': (448, 119, 170, 116)}\n"
     ]
    }
   ],
   "source": [
    "print(grid.best_score_)\n",
    "print(grid.best_params_)"
   ]
  },
  {
   "attachments": {},
   "cell_type": "markdown",
   "metadata": {},
   "source": [
    "| Layer 1 | Layer 2 | Accuracy | Random State\n",
    "| --------- | -------- | ----------- | --- |\n",
    "| 300 | 25 | 0.72something | 1 |\n",
    "| 300 | 30 | 0.7336 | 1 |\n",
    "| 300 | 40 | 0.7377 | 1 |\n",
    "| 300 | 50 | 0.7418 | 1 |\n",
    "| 300 | 53 | 0.75 |   1 |\n",
    "| 300 | 52 | 0.7663 | 1 |\n",
    "| 300 | 52 | 0.7746 | 42 |\n",
    "| 320 | 52 | 0.7828 | 42 |\n",
    "| 280 | 52 | 0.7868 | 42 |\n",
    "\n",
    "284 first layer\n",
    "- Accuracy for 47 hidden layers is 0.7295081967213115\n",
    "- Accuracy for 48 hidden layers is 0.7377049180327869\n",
    "- Accuracy for 49 hidden layers is 0.7418032786885246\n",
    "- Accuracy for 50 hidden layers is 0.7336065573770492\n",
    "- Accuracy for 51 hidden layers is 0.7418032786885246\n",
    "- Accuracy for 52 hidden layers is 0.7459016393442623\n",
    "- Accuracy for 53 hidden layers is 0.7418032786885246\n",
    "- Accuracy for 54 hidden layers is 0.7377049180327869\n",
    "- Accuracy for 55 hidden layers is 0.7459016393442623\n",
    "- Accuracy for 56 hidden layers is 0.7581967213114754\n",
    "- Accuracy for 57 hidden layers is 0.7459016393442623\n",
    "- Accuracy for 58 hidden layers is 0.7336065573770492\n",
    "- Accuracy for 59 hidden layers is 0.7581967213114754\n",
    "- Accuracy for 60 hidden layers is 0.7581967213114754\n",
    "- Accuracy for 61 hidden layers is 0.75\n",
    "- Accuracy for 62 hidden layers is 0.75"
   ]
  },
  {
   "cell_type": "code",
   "execution_count": 133,
   "metadata": {},
   "outputs": [
    {
     "name": "stdout",
     "output_type": "stream",
     "text": [
      "1.0\n",
      "(415, 4096)\n"
     ]
    }
   ],
   "source": [
    "# run pca on X\n",
    "# from  sklearn.decomposition  import  PCA\n",
    "# pca2 = PCA(n_components=800)\n",
    "# pca2.fit(data)\n",
    "\n",
    "# # transform X\n",
    "# data = pca2.transform(data)\n",
    "\n",
    "# train on the whole data\n",
    "\n",
    "# standardize the whole data\n",
    "scaler = StandardScaler()\n",
    "scaler.fit(data)\n",
    "\n",
    "data = scaler.transform(data)\n",
    "\n",
    "clf.fit(data, y)\n",
    "\n",
    "# find training accuracy\n",
    "y_pred = clf.predict(data)\n",
    "print(accuracy_score(y, y_pred))\n",
    "\n",
    "\n",
    "# load test data\n",
    "df_test = pd.read_csv( 'test.csv' )\n",
    "data_test = np.array(df_test.values)\n",
    "data_test = data_test[:,1:]\n",
    "print(data_test.shape)\n",
    "\n",
    "# standardize the test data\n",
    "data_test = scaler.transform(data_test)\n",
    "\n",
    "# do pca on the test data\n",
    "# data_test = pca2.transform(data_test)\n",
    "\n",
    "# run neural network on test data\n",
    "y_pred = clf.predict(data_test)\n",
    "\n",
    "# change the labels to the original labels\n",
    "y_pred = y_pred.astype(int)\n",
    "y_pred = categories_list[y_pred]\n",
    "\n",
    "# write the predictions to a csv file\n",
    "with open( 'nn_wo_pca_4_layer.csv' ,  'w' , newline='')  as  csvfile:\n",
    "    writer = csv.writer(csvfile, delimiter=',',\n",
    "                            quotechar='|', quoting=csv.QUOTE_MINIMAL)\n",
    "    writer.writerow([ 'ID' ,  'Category' ])\n",
    "    for i in range(len(y_pred)):\n",
    "        writer.writerow([i, y_pred[i]])"
   ]
  },
  {
   "cell_type": "code",
   "execution_count": 132,
   "metadata": {},
   "outputs": [
    {
     "name": "stdout",
     "output_type": "stream",
     "text": [
      "Processing data point  0\n",
      "[[ 3.54190310e-04  4.06669677e-04  1.97612143e-04 ...  1.82626831e-04\n",
      "   1.02433283e-04 -3.45326753e-04]\n",
      " [ 4.06669677e-04  2.88983407e-02  3.15777321e-03 ...  1.33367945e-04\n",
      "   7.23421085e-04 -1.33989183e-02]\n",
      " [ 1.97612143e-04  3.15777321e-03  4.75988747e-02 ...  8.12342290e-04\n",
      "  -6.03434312e-04 -3.64911814e-03]\n",
      " ...\n",
      " [ 1.82626831e-04  1.33367945e-04  8.12342290e-04 ...  8.37172868e-04\n",
      "   2.06283263e-05 -8.91369534e-04]\n",
      " [ 1.02433283e-04  7.23421085e-04 -6.03434312e-04 ...  2.06283263e-05\n",
      "   1.06420296e-02  2.32269003e-03]\n",
      " [-3.45326753e-04 -1.33989183e-02 -3.64911814e-03 ... -8.91369534e-04\n",
      "   2.32269003e-03  4.96639698e-02]]\n"
     ]
    },
    {
     "ename": "LinAlgError",
     "evalue": "Singular matrix",
     "output_type": "error",
     "traceback": [
      "\u001b[0;31m---------------------------------------------------------------------------\u001b[0m",
      "\u001b[0;31mLinAlgError\u001b[0m                               Traceback (most recent call last)",
      "\u001b[1;32m/Users/mehar/Desktop/codes/sml/project/neural_network.ipynb Cell 14\u001b[0m in \u001b[0;36m2\n\u001b[1;32m     <a href='vscode-notebook-cell:/Users/mehar/Desktop/codes/sml/project/neural_network.ipynb#X15sZmlsZQ%3D%3D?line=17'>18</a>\u001b[0m \u001b[39mprint\u001b[39m( \u001b[39m'\u001b[39m\u001b[39mProcessing data point \u001b[39m\u001b[39m'\u001b[39m , i)\n\u001b[1;32m     <a href='vscode-notebook-cell:/Users/mehar/Desktop/codes/sml/project/neural_network.ipynb#X15sZmlsZQ%3D%3D?line=18'>19</a>\u001b[0m \u001b[39m# calculate mahalanobis distance\u001b[39;00m\n\u001b[0;32m---> <a href='vscode-notebook-cell:/Users/mehar/Desktop/codes/sml/project/neural_network.ipynb#X15sZmlsZQ%3D%3D?line=19'>20</a>\u001b[0m md \u001b[39m=\u001b[39m mahalanobis(data[i], data)\n\u001b[1;32m     <a href='vscode-notebook-cell:/Users/mehar/Desktop/codes/sml/project/neural_network.ipynb#X15sZmlsZQ%3D%3D?line=20'>21</a>\u001b[0m \u001b[39m# if mahalanobis distance is greater than 3.84, then it is an outlier\u001b[39;00m\n\u001b[1;32m     <a href='vscode-notebook-cell:/Users/mehar/Desktop/codes/sml/project/neural_network.ipynb#X15sZmlsZQ%3D%3D?line=21'>22</a>\u001b[0m \u001b[39m# if md > 3.84:\u001b[39;00m\n\u001b[1;32m     <a href='vscode-notebook-cell:/Users/mehar/Desktop/codes/sml/project/neural_network.ipynb#X15sZmlsZQ%3D%3D?line=22'>23</a>\u001b[0m outliers\u001b[39m.\u001b[39mappend([i, md])\n",
      "\u001b[1;32m/Users/mehar/Desktop/codes/sml/project/neural_network.ipynb Cell 14\u001b[0m in \u001b[0;36m9\n\u001b[1;32m      <a href='vscode-notebook-cell:/Users/mehar/Desktop/codes/sml/project/neural_network.ipynb#X15sZmlsZQ%3D%3D?line=6'>7</a>\u001b[0m \u001b[39m# calculate inverse of covariance matrix\u001b[39;00m\n\u001b[1;32m      <a href='vscode-notebook-cell:/Users/mehar/Desktop/codes/sml/project/neural_network.ipynb#X15sZmlsZQ%3D%3D?line=7'>8</a>\u001b[0m \u001b[39mprint\u001b[39m(cov)\n\u001b[0;32m----> <a href='vscode-notebook-cell:/Users/mehar/Desktop/codes/sml/project/neural_network.ipynb#X15sZmlsZQ%3D%3D?line=8'>9</a>\u001b[0m cov_inv \u001b[39m=\u001b[39m np\u001b[39m.\u001b[39;49mlinalg\u001b[39m.\u001b[39;49minv(cov)\n\u001b[1;32m     <a href='vscode-notebook-cell:/Users/mehar/Desktop/codes/sml/project/neural_network.ipynb#X15sZmlsZQ%3D%3D?line=9'>10</a>\u001b[0m \u001b[39m# calculate mahalanobis distance\u001b[39;00m\n\u001b[1;32m     <a href='vscode-notebook-cell:/Users/mehar/Desktop/codes/sml/project/neural_network.ipynb#X15sZmlsZQ%3D%3D?line=10'>11</a>\u001b[0m left_term \u001b[39m=\u001b[39m np\u001b[39m.\u001b[39mdot(np\u001b[39m.\u001b[39mtranspose(x\u001b[39m-\u001b[39mmean), cov_inv)\n",
      "File \u001b[0;32m<__array_function__ internals>:180\u001b[0m, in \u001b[0;36minv\u001b[0;34m(*args, **kwargs)\u001b[0m\n",
      "File \u001b[0;32m/opt/homebrew/lib/python3.9/site-packages/numpy/linalg/linalg.py:552\u001b[0m, in \u001b[0;36minv\u001b[0;34m(a)\u001b[0m\n\u001b[1;32m    550\u001b[0m signature \u001b[39m=\u001b[39m \u001b[39m'\u001b[39m\u001b[39mD->D\u001b[39m\u001b[39m'\u001b[39m \u001b[39mif\u001b[39;00m isComplexType(t) \u001b[39melse\u001b[39;00m \u001b[39m'\u001b[39m\u001b[39md->d\u001b[39m\u001b[39m'\u001b[39m\n\u001b[1;32m    551\u001b[0m extobj \u001b[39m=\u001b[39m get_linalg_error_extobj(_raise_linalgerror_singular)\n\u001b[0;32m--> 552\u001b[0m ainv \u001b[39m=\u001b[39m _umath_linalg\u001b[39m.\u001b[39;49minv(a, signature\u001b[39m=\u001b[39;49msignature, extobj\u001b[39m=\u001b[39;49mextobj)\n\u001b[1;32m    553\u001b[0m \u001b[39mreturn\u001b[39;00m wrap(ainv\u001b[39m.\u001b[39mastype(result_t, copy\u001b[39m=\u001b[39m\u001b[39mFalse\u001b[39;00m))\n",
      "File \u001b[0;32m/opt/homebrew/lib/python3.9/site-packages/numpy/linalg/linalg.py:89\u001b[0m, in \u001b[0;36m_raise_linalgerror_singular\u001b[0;34m(err, flag)\u001b[0m\n\u001b[1;32m     88\u001b[0m \u001b[39mdef\u001b[39;00m \u001b[39m_raise_linalgerror_singular\u001b[39m(err, flag):\n\u001b[0;32m---> 89\u001b[0m     \u001b[39mraise\u001b[39;00m LinAlgError(\u001b[39m\"\u001b[39m\u001b[39mSingular matrix\u001b[39m\u001b[39m\"\u001b[39m)\n",
      "\u001b[0;31mLinAlgError\u001b[0m: Singular matrix"
     ]
    }
   ],
   "source": [
    "# implement mahalanobis distance to find outliers\n",
    "def mahalanobis(x, data):\n",
    "    # calculate mean of data\n",
    "    mean = np.mean(data, axis=0)\n",
    "    # calculate covariance matrix of data\n",
    "    cov = np.cov(data, rowvar=False)\n",
    "    # calculate inverse of covariance matrix\n",
    "    print(cov)\n",
    "    cov_inv = np.linalg.inv(cov)\n",
    "    # calculate mahalanobis distance\n",
    "    left_term = np.dot(np.transpose(x-mean), cov_inv)\n",
    "    mahal = np.dot(left_term, (x-mean))\n",
    "    return  mahal\n",
    "\n",
    "# find outliers\n",
    "outliers = []\n",
    "for i in range(len(data)):\n",
    "    print( 'Processing data point ' , i)\n",
    "    # calculate mahalanobis distance\n",
    "    md = mahalanobis(data[i], data)\n",
    "    # if mahalanobis distance is greater than 3.84, then it is an outlier\n",
    "    # if md > 3.84:\n",
    "    outliers.append([i, md])\n",
    "\n",
    "    \n",
    "# remove outliers\n",
    "# data = np.delete(data, outliers, axis=0)\n",
    "\n",
    "print( 'Number of outliers: ' , len(outliers))\n",
    "print(\"Outliers: \", outliers)\n"
   ]
  },
  {
   "cell_type": "code",
   "execution_count": null,
   "metadata": {},
   "outputs": [
    {
     "data": {
      "image/png": "[encoded data removed]",
      "text/plain": [
       "<Figure size 640x480 with 1 Axes>"
      ]
     },
     "metadata": {},
     "output_type": "display_data"
    }
   ],
   "source": [
    "# plot the outliers array on 1D graph\n",
    "import matplotlib.pyplot  as  plt\n",
    "np_outliers = np.array(outliers)\n",
    "plt.scatter(np_outliers[:,0], np_outliers[:,1])\n",
    "plt.show()"
   ]
  }
 ],
 "metadata": {
  "kernelspec": {
   "display_name": "Python 3",
   "language": "python",
   "name": "python3"
  },
  "language_info": {
   "codemirror_mode": {
    "name": "ipython",
    "version": 3
   },
   "file_extension": ".py",
   "mimetype": "text/x-python",
   "name": "python",
   "nbconvert_exporter": "python",
   "pygments_lexer": "ipython3",
   "version": "3.9.16"
  },
  "orig_nbformat": 4
 },
 "nbformat": 4,
 "nbformat_minor": 2
}
